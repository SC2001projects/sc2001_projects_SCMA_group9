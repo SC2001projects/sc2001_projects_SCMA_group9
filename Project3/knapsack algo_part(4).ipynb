{
 "cells": [
  {
   "cell_type": "code",
   "execution_count": 1,
   "metadata": {},
   "outputs": [],
   "source": [
    "def unbounded_knapsack(w, p, C, n):\n",
    "    # Create a 2D array to store the maximum profit for each item and capacity\n",
    "    profit = [[0] * (C + 1) for _ in range(n)]\n",
    "\n",
    "    # Fill the profit table\n",
    "    for i in range(n):\n",
    "        for r in range(1, C + 1):\n",
    "            # Carry over the previous item's value if applicable\n",
    "            if i > 0:\n",
    "                profit[i][r] = profit[i - 1][r]\n",
    "\n",
    "            # Check if the current item's weight fits in the knapsack\n",
    "            if w[i] <= r:\n",
    "                profit[i][r] = max(profit[i][r], p[i] + profit[i][r - w[i]])\n",
    "\n",
    "    # Return the maximum profit for the full capacity using all items\n",
    "    return profit[n - 1][C]\n"
   ]
  },
  {
   "cell_type": "code",
   "execution_count": 2,
   "metadata": {},
   "outputs": [
    {
     "name": "stdout",
     "output_type": "stream",
     "text": [
      "Maximum profit for capacity 14 is: 21\n"
     ]
    }
   ],
   "source": [
    "# Example input\n",
    "weights = [4, 6, 8]  # Weights of the items\n",
    "profits = [7, 6, 9]  # Profits of the items\n",
    "capacity = 14        # Knapsack capacity\n",
    "n = len(weights)     # Number of items\n",
    "\n",
    "# Call the unbounded knapsack function and print the result\n",
    "max_profit = unbounded_knapsack(weights, profits, capacity, n)\n",
    "print(f\"Maximum profit for capacity {capacity} is: {max_profit}\")"
   ]
  },
  {
   "cell_type": "code",
   "execution_count": 3,
   "metadata": {},
   "outputs": [
    {
     "name": "stdout",
     "output_type": "stream",
     "text": [
      "Maximum profit for capacity 14 is: 16\n"
     ]
    }
   ],
   "source": [
    "# Example input\n",
    "weights = [5, 6, 8]  # Weights of the items\n",
    "profits = [7, 6, 9]  # Profits of the items\n",
    "capacity = 14        # Knapsack capacity\n",
    "n = len(weights)     # Number of items\n",
    "\n",
    "# Call the unbounded knapsack function and print the result\n",
    "max_profit = unbounded_knapsack(weights, profits, capacity, n)\n",
    "print(f\"Maximum profit for capacity {capacity} is: {max_profit}\")"
   ]
  }
 ],
 "metadata": {
  "kernelspec": {
   "display_name": "Python 3",
   "language": "python",
   "name": "python3"
  },
  "language_info": {
   "codemirror_mode": {
    "name": "ipython",
    "version": 3
   },
   "file_extension": ".py",
   "mimetype": "text/x-python",
   "name": "python",
   "nbconvert_exporter": "python",
   "pygments_lexer": "ipython3",
   "version": "3.12.3"
  }
 },
 "nbformat": 4,
 "nbformat_minor": 2
}
