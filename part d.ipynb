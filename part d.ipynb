{
 "cells": [
  {
   "cell_type": "code",
   "execution_count": null,
   "metadata": {},
   "outputs": [],
   "source": [
    "import numpy as np\n",
    "import matplotlib.pyplot as plt"
   ]
  },
  {
   "cell_type": "code",
   "execution_count": null,
   "metadata": {},
   "outputs": [],
   "source": [
    "# Define the threshold for switching to Insertion Sort\n",
    "S = 5\n",
    "num_cmp = 0"
   ]
  },
  {
   "cell_type": "code",
   "execution_count": null,
   "metadata": {},
   "outputs": [],
   "source": [
    "def print_array(arr):\n",
    "    \"\"\"Function to print the array\"\"\"\n",
    "    print(\" \".join(map(str, arr)))"
   ]
  },
  {
   "cell_type": "code",
   "execution_count": null,
   "metadata": {},
   "outputs": [],
   "source": [
    "def generate_random_array(n, max_value):\n",
    "    \"\"\"Function to generate a random array\"\"\"\n",
    "    return np.random.randint(0, max_value, n).tolist()"
   ]
  },
  {
   "cell_type": "code",
   "execution_count": null,
   "metadata": {},
   "outputs": [],
   "source": [
    "def insertion_sort(arr, left, right):\n",
    "    \"\"\"Function to perform Insertion Sort\"\"\"\n",
    "    global num_cmp\n",
    "    for i in range(left + 1, right + 1):\n",
    "        key = arr[i]\n",
    "        j = i - 1\n",
    "\n",
    "        while j >= left:\n",
    "            num_cmp += 1 # num_cmp is incremented here\n",
    "            if key >= arr[j]:\n",
    "                 break\n",
    "            arr[j + 1] = arr[j]\n",
    "            j -= 1\n",
    "        arr[j + 1] = key\n",
    "    return num_cmp"
   ]
  },
  {
   "cell_type": "code",
   "execution_count": null,
   "metadata": {},
   "outputs": [],
   "source": [
    "def merge(arr, left, mid, right):\n",
    "    \"\"\"Function to merge two sorted halves\"\"\"\n",
    "    n1 = mid - left + 1\n",
    "    n2 = right - mid\n",
    "    global num_cmp\n",
    "\n",
    "    # Create temporary arrays\n",
    "    L = arr[left:mid+1]\n",
    "    R = arr[mid+1:right+1]\n",
    "\n",
    "    # Merge the temp arrays back into arr[left..right]\n",
    "    i = 0\n",
    "    j = 0\n",
    "    k = left\n",
    "    while i < len(L) and j < len(R):\n",
    "        num_cmp += 1 # num_cmp is incremented here\n",
    "        if L[i] <= R[j]:\n",
    "            arr[k] = L[i]\n",
    "            i += 1\n",
    "        else:\n",
    "            arr[k] = R[j]\n",
    "            j += 1\n",
    "        k += 1\n",
    "\n",
    "    # Copy the remaining elements of L[], if any\n",
    "    while i < len(L):\n",
    "        arr[k] = L[i]\n",
    "        i += 1\n",
    "        k += 1\n",
    "\n",
    "    # Copy the remaining elements of R[], if any\n",
    "    while j < len(R):\n",
    "        arr[k] = R[j]\n",
    "        j += 1\n",
    "        k += 1"
   ]
  },
  {
   "cell_type": "code",
   "execution_count": null,
   "metadata": {},
   "outputs": [],
   "source": [
    "def hybrid_merge_sort(arr, left, right):\n",
    "    \"\"\"Function to implement the hybrid Merge-Insertion Sort\"\"\"\n",
    "    if right - left + 1 <= S:\n",
    "        # If subarray size is less than or equal to S, use Insertion Sort\n",
    "        return insertion_sort(arr, left, right)\n",
    "    else:\n",
    "        # Otherwise, use Merge Sort\n",
    "        mid = left + (right - left) // 2\n",
    "\n",
    "        # Recursively sort the two halves\n",
    "        hybrid_merge_sort(arr, left, mid)\n",
    "        hybrid_merge_sort(arr, mid + 1, right)\n",
    "\n",
    "        # Merge the sorted halves\n",
    "        merge(arr, left, mid, right)"
   ]
  },
  {
   "cell_type": "code",
   "execution_count": null,
   "metadata": {},
   "outputs": [],
   "source": []
  }
 ],
 "metadata": {
  "language_info": {
   "name": "python"
  }
 },
 "nbformat": 4,
 "nbformat_minor": 2
}
